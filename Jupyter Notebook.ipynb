{
 "cells": [
  {
   "attachments": {},
   "cell_type": "markdown",
   "metadata": {},
   "source": [
    "# My Jupyter Notebook on IBM Watson Studio"
   ]
  },
  {
   "attachments": {},
   "cell_type": "markdown",
   "metadata": {},
   "source": [
    "**Jacob Lenzi** <br>\n",
    "Process Engineer<br>"
   ]
  },
  {
   "attachments": {},
   "cell_type": "markdown",
   "metadata": {},
   "source": [
    "*I am interested in data science because I am dealing with more and more big data as a process engineer. I would like to have a better skill set to deal with this data and make more decisions based on data. I would like to try out machine learning to see if there are relationships in the processes that I may be missing.*"
   ]
  },
  {
   "attachments": {},
   "cell_type": "markdown",
   "metadata": {},
   "source": [
    "### The code in the follow cell is to display pi in honor of pi day.  "
   ]
  },
  {
   "cell_type": "code",
   "execution_count": 1,
   "metadata": {},
   "outputs": [
    {
     "name": "stdout",
     "output_type": "stream",
     "text": [
      "3.141592653589793\n"
     ]
    }
   ],
   "source": [
    "import math\n",
    "print(math.pi)"
   ]
  },
  {
   "attachments": {},
   "cell_type": "markdown",
   "metadata": {},
   "source": [
    "----------\n",
    "Bullet list\n",
    "- bullet one\n",
    "- bullet two\n",
    "    - sub two\n",
    "    - sub two again\n",
    "\n",
    "Numbered List\n",
    "1. first\n",
    "2. second\n",
    "3. third\n",
    "\n",
    "\n",
    "\n",
    "| Column One | Column Two |\n",
    "|-----------|-------|\n",
    "|row 1 | row 1 |\n",
    "|row 2 | row 2 |\n",
    "|row 3 | row 3 |\n",
    "\n",
    "[My Hyperlink here](www.coursera.com)\n",
    "\n",
    "![Image](https://mljar.com/blog/jupyter-notebook-insert-image/banner.jpg)\n",
    "\n",
    "\n",
    " `import math ` <br>\n",
    "`print(math.pi)`\n",
    "\n",
    "\n",
    "> blocked quotes\n",
    ">> more blocked quotes\n",
    "\n",
    "~~strikethrough~~\n"
   ]
  },
  {
   "cell_type": "markdown",
   "metadata": {},
   "source": []
  }
 ],
 "metadata": {
  "kernelspec": {
   "display_name": "base",
   "language": "python",
   "name": "python3"
  },
  "language_info": {
   "codemirror_mode": {
    "name": "ipython",
    "version": 3
   },
   "file_extension": ".py",
   "mimetype": "text/x-python",
   "name": "python",
   "nbconvert_exporter": "python",
   "pygments_lexer": "ipython3",
   "version": "3.9.7"
  },
  "orig_nbformat": 4
 },
 "nbformat": 4,
 "nbformat_minor": 2
}
